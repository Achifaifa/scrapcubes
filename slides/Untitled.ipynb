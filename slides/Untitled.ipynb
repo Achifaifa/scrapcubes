{
 "cells": [
  {
   "cell_type": "markdown",
   "metadata": {
    "slideshow": {
     "slide_type": "slide"
    }
   },
   "source": [
    "# Scrap ALL the cubes\n",
    "\n",
    "## Yuri Numerov (Achifaifa)\n",
    "## Slides/code at [code.achi.se/scrapcubes](http://github.com/achifaifa/scrapcubes)\n",
    "## [achi.se](http://achi.se) - [achi (a) hush (.) ai](http://hue.hue/hue) - [@Achifaifa](https://twitter.com/achifaifa)"
   ]
  },
  {
   "cell_type": "markdown",
   "metadata": {
    "slideshow": {
     "slide_type": "slide"
    }
   },
   "source": [
    "## Background"
   ]
  },
  {
   "cell_type": "markdown",
   "metadata": {
    "slideshow": {
     "slide_type": "fragment"
    }
   },
   "source": [
    "#### \"Hey, you could scrape the cubes from lightake\"\n",
    "#### \"Okay\""
   ]
  },
  {
   "cell_type": "markdown",
   "metadata": {
    "slideshow": {
     "slide_type": "slide"
    }
   },
   "source": [
    "## Step 1: Write the spider"
   ]
  },
  {
   "cell_type": "code",
   "execution_count": null,
   "metadata": {
    "collapsed": true,
    "slideshow": {
     "slide_type": "fragment"
    }
   },
   "outputs": [],
   "source": [
    "import scrapy\n",
    "\n",
    "class MySpider(scrapy.Spider):\n",
    "  name='cubespider'\n",
    "  allowed_domains=[\"lightake.com\"]\n",
    "  start_urls=['http://www.lightake.com/c/Puzzles-Magic-Cube_001?page=1&pagesize=16&sort=0&showtype=0&startprice=0&endprice=0']\n",
    "\n",
    "  def parsecube(self,response):\n",
    "    name=response.xpath('//h3[@class=\"mb10 f16\"]/text()').extract()[0].strip()  \n",
    "    sku=response.xpath('//div[@id=\"_productId\"]/text()').extract()[0].strip()\n",
    "    price=response.xpath('//span[@class=\"dtl_price\"]/text()').extract()[0].strip()\n",
    "    cubetype=response.xpath('//a[@class=\"vm\"][3]/text()').extract()[0].strip()\n",
    "    yield {'sku':sku, 'name':name, 'price':price, 'type':cubetype}\n",
    "\n",
    "  def parse(self,response):\n",
    "    cubes=response.xpath('//span[@class=\"ovh_2line mt5\"]/a[@target=\"_blank\"]/@href').extract()\n",
    "    for cube in cubes:\n",
    "      cubeurl=response.urljoin(cube)\n",
    "      yield scrapy.Request(cubeurl,callback=self.parsecube)\n",
    "    \n",
    "    nexturl=response.xpath('//a[@class=\"inline_any page_simp\"]/@href').extract()\n",
    "    if nexturl: nexturl=response.urljoin(nexturl[0])\n",
    "    yield scrapy.Request(nexturl, callback=self.parse)\n"
   ]
  },
  {
   "cell_type": "code",
   "execution_count": null,
   "metadata": {
    "collapsed": true
   },
   "outputs": [],
   "source": []
  }
 ],
 "metadata": {
  "celltoolbar": "Slideshow",
  "kernelspec": {
   "display_name": "Python 2",
   "language": "python",
   "name": "python2"
  },
  "language_info": {
   "codemirror_mode": {
    "name": "ipython",
    "version": 2
   },
   "file_extension": ".py",
   "mimetype": "text/x-python",
   "name": "python",
   "nbconvert_exporter": "python",
   "pygments_lexer": "ipython2",
   "version": "2.7.10+"
  }
 },
 "nbformat": 4,
 "nbformat_minor": 0
}
