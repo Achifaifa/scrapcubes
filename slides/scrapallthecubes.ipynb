{
 "cells": [
  {
   "cell_type": "markdown",
   "metadata": {
    "slideshow": {
     "slide_type": "slide"
    }
   },
   "source": [
    "# Scrap ALL the cubes\n",
    "\n",
    "## Yuri Numerov (Achifaifa)\n",
    "## Slides/code at [code.achi.se/scrapcubes](http://github.com/achifaifa/scrapcubes)\n",
    "## [achi.se](http://achi.se) - [achi (a) hush (.) ai](http://hue.hue/hue) - [@Achifaifa](https://twitter.com/achifaifa)"
   ]
  },
  {
   "cell_type": "markdown",
   "metadata": {
    "slideshow": {
     "slide_type": "slide"
    }
   },
   "source": [
    "## Background"
   ]
  },
  {
   "cell_type": "markdown",
   "metadata": {
    "slideshow": {
     "slide_type": "fragment"
    }
   },
   "source": [
    "![](./img/map.png)"
   ]
  },
  {
   "cell_type": "markdown",
   "metadata": {
    "slideshow": {
     "slide_type": "subslide"
    }
   },
   "source": [
    "#### \"Hey, you could scrape the cubes from lightake\"\n",
    "#### \"Okay\""
   ]
  },
  {
   "cell_type": "markdown",
   "metadata": {
    "slideshow": {
     "slide_type": "slide"
    }
   },
   "source": [
    "## Step 1: Write the spider"
   ]
  },
  {
   "cell_type": "code",
   "execution_count": null,
   "metadata": {
    "collapsed": true,
    "slideshow": {
     "slide_type": "subslide"
    }
   },
   "outputs": [],
   "source": [
    "import scrapy\n",
    "\n",
    "class MySpider(scrapy.Spider):\n",
    "  name='cubespider'\n",
    "  allowed_domains=[\"lightake.com\"]\n",
    "  start_urls=['http://www.lightake.com/c/Puzzles-Magic-Cube_001?page=1&pagesize=16&sort=0&showtype=0&startprice=0&endprice=0']\n",
    "\n",
    "  def parsecube(self,response):\n",
    "    name=response.xpath('//h3[@class=\"mb10 f16\"]/text()').extract()[0].strip()  \n",
    "    sku=response.xpath('//div[@id=\"_productId\"]/text()').extract()[0].strip()\n",
    "    price=response.xpath('//span[@class=\"dtl_price\"]/text()').extract()[0].strip()\n",
    "    cubetype=response.xpath('//a[@class=\"vm\"][3]/text()').extract()[0].strip()\n",
    "    yield {'sku':sku, 'name':name, 'price':price, 'type':cubetype}\n",
    "\n",
    "  def parse(self,response):\n",
    "    cubes=response.xpath('//span[@class=\"ovh_2line mt5\"]/a[@target=\"_blank\"]/@href').extract()\n",
    "    for cube in cubes:\n",
    "      cubeurl=response.urljoin(cube)\n",
    "      yield scrapy.Request(cubeurl,callback=self.parsecube)\n",
    "    \n",
    "    nexturl=response.xpath('//a[@class=\"inline_any page_simp\"]/@href').extract()\n",
    "    if nexturl: nexturl=response.urljoin(nexturl[0])\n",
    "    yield scrapy.Request(nexturl, callback=self.parse)\n"
   ]
  },
  {
   "cell_type": "markdown",
   "metadata": {
    "slideshow": {
     "slide_type": "slide"
    }
   },
   "source": [
    "## Step 2: Run the spider"
   ]
  },
  {
   "cell_type": "markdown",
   "metadata": {
    "slideshow": {
     "slide_type": "fragment"
    }
   },
   "source": [
    "`scrapy crawl <spidername> -o <filename>.csv`"
   ]
  },
  {
   "cell_type": "markdown",
   "metadata": {
    "slideshow": {
     "slide_type": "slide"
    }
   },
   "source": [
    "## Step 3: ???, profit"
   ]
  },
  {
   "cell_type": "markdown",
   "metadata": {
    "slideshow": {
     "slide_type": "fragment"
    }
   },
   "source": [
    "![](./img/datacsv.png)"
   ]
  },
  {
   "cell_type": "markdown",
   "metadata": {
    "slideshow": {
     "slide_type": "slide"
    }
   },
   "source": [
    "## Step 4: Use the data"
   ]
  },
  {
   "cell_type": "code",
   "execution_count": 48,
   "metadata": {
    "collapsed": false,
    "slideshow": {
     "slide_type": "fragment"
    }
   },
   "outputs": [],
   "source": [
    "cubes=[]\n",
    "with open(\"../data/data.csv\",\"r\") as data:\n",
    "    for line in data:\n",
    "        if not line.startswith(\"sku\"):\n",
    "            line=line.split(',')\n",
    "            cubes.append({'sku':line[0], 'price':line[1], 'type':line[2], 'name':line[3].strip()})"
   ]
  },
  {
   "cell_type": "code",
   "execution_count": 151,
   "metadata": {
    "collapsed": false,
    "slideshow": {
     "slide_type": "subslide"
    }
   },
   "outputs": [
    {
     "name": "stdout",
     "output_type": "stream",
     "text": [
      "503 cubes for 4375.44 USD (AVG 8.70)\n",
      "\n",
      "{'Cube Stands': 1.74, 'Cyclone Boys': 4.89, 'GuoJia/Type A': 2.83, 'GansPuzzle': 11.11, 'Cube Stickers': 2.98, 'FangShi/FS': 13.46, 'Irregular Puzzles': 6.16, '3x3': 6.55, 'Cube Components': 1.93, 'LWB': 11.6, 'CubeTwist': 7.39, 'DaYan': 13.84, 'GhostHand/GS': 3.73, '4x4x4': 4.96, 'SpeedStacks': 5.94, 'Mirror Cubes': 5.21, 'DaYan + MF8': 27.37, 'GuoBing/Type-C': 12.71, \"Rubik's Snakes\": 9.14, 'WitEden': 22.4, 'Others': 6.09, 'CYH': 5.48, 'Cube Lubes': 3.34, 'Octahedral': 4.7, 'DianSheng/DS': 6.81, 'YJ (MoYu)': 8.4, 'ZhiSheng': 21.23, 'Flying Cups': 5.18, 'ShengShou': 8.8, 'Ayi': 22.11, 'XWH (Maru)': 9.3, 'Timers': 10.36, 'Cube Bags': 2.09, 'MF8': 16.96, 'DIY Kits': 9.27, 'LingAo/LA': 4.74, 'QJ': 4.64, 'Cube Boxes': 2.0, '(MHZ) Cube4You': 11.11, 'QuickFinger': 5.19, 'Cube Keychain': 3.05, 'XM': 4.09, 'LanLan/LL': 6.03, '2x3': 8.4, '2x2': 3.66, 'Tools': 2.09}\n"
     ]
    }
   ],
   "source": [
    "# Average price per category\n",
    "\n",
    "categories={i[\"type\"]:[0,0] for i in cubes}\n",
    "avg=[0,0]\n",
    "for i in cubes: \n",
    "    categories[i[\"type\"]][0]+=1\n",
    "    avg[0]+=1\n",
    "    categories[i[\"type\"]][1]+=float(i[\"price\"].split()[-1])\n",
    "    avg[1]+=float(i[\"price\"].split()[-1])\n",
    "categories={key:round(val[1]/val[0],2) for key,val in categories.iteritems()}\n",
    "avg[1]=round(avg[1],2)\n",
    "avgprice=round(avg[1]/avg[0],2)\n",
    "\n",
    "print \"%i cubes for %.2f USD (AVG %.2f)\"%(avg[0],avg[1],avgprice)\n",
    "print \"\\n\",categories"
   ]
  },
  {
   "cell_type": "code",
   "execution_count": 119,
   "metadata": {
    "collapsed": false,
    "slideshow": {
     "slide_type": "subslide"
    }
   },
   "outputs": [
    {
     "name": "stdout",
     "output_type": "stream",
     "text": [
      "327 cubes under 8.70 USD average, 176 cubes over\n"
     ]
    }
   ],
   "source": [
    "# Number of cubes over/under average USD Price\n",
    "\n",
    "under=len([1 for i in cubes if float(i[\"price\"].split()[-1])<avgprice])\n",
    "print \"%i cubes under %.2f USD average, %i cubes over\"%(under,avgprice,avg[0]-under)"
   ]
  },
  {
   "cell_type": "code",
   "execution_count": 159,
   "metadata": {
    "collapsed": false,
    "scrolled": true,
    "slideshow": {
     "slide_type": "subslide"
    }
   },
   "outputs": [
    {
     "data": {
      "text/plain": [
       "[<matplotlib.lines.Line2D at 0xaccec3ec>]"
      ]
     },
     "execution_count": 159,
     "metadata": {},
     "output_type": "execute_result"
    },
    {
     "data": {
      "image/png": "[encoded data removed]",
      "text/plain": [
       "<matplotlib.figure.Figure at 0xadfa884c>"
      ]
     },
     "metadata": {},
     "output_type": "display_data"
    }
   ],
   "source": [
    "%matplotlib inline\n",
    "import matplotlib.pyplot as pl\n",
    "import numpy as n\n",
    "\n",
    "brands=[i for i,z in categories.iteritems()]\n",
    "ypos=n.arange(len(brands))\n",
    "avgprice=[z for i,z in categories.iteritems()]\n",
    "\n",
    "pl.barh(ypos, avgprice,color=\"#FABADA\")\n",
    "pl.yticks(ypos, brands)\n",
    "pl.plot([8.7, 8.7], [0, len(brands)],color=\"b\")"
   ]
  },
  {
   "cell_type": "code",
   "execution_count": 176,
   "metadata": {
    "collapsed": false,
    "slideshow": {
     "slide_type": "subslide"
    }
   },
   "outputs": [
    {
     "data": {
      "text/plain": [
       "<Container object of 90 artists>"
      ]
     },
     "execution_count": 176,
     "metadata": {},
     "output_type": "execute_result"
    },
    {
     "data": {
      "image/png": "[encoded data removed]",
      "text/plain": [
       "<matplotlib.figure.Figure at 0xac32d16c>"
      ]
     },
     "metadata": {},
     "output_type": "display_data"
    }
   ],
   "source": [
    "import math\n",
    "pricecount=[0 for i in range(90)]\n",
    "for i in cubes:\n",
    "    try: pricecount[int(math.floor(float(i[\"price\"].split()[-1])))]+=1\n",
    "    except: pass # ¯\\_(ツ)_/¯\n",
    "pl.barh(range(90),pricecount,color=\"#000000\")"
   ]
  },
  {
   "cell_type": "markdown",
   "metadata": {
    "slideshow": {
     "slide_type": "slide"
    }
   },
   "source": [
    "## Curious?\n",
    "\n",
    "#### Learning only takes ~1h"
   ]
  },
  {
   "cell_type": "markdown",
   "metadata": {
    "slideshow": {
     "slide_type": "subslide"
    }
   },
   "source": [
    "## Know how to do better?\n",
    "\n",
    "#### Consider giving a talk!"
   ]
  },
  {
   "cell_type": "markdown",
   "metadata": {
    "slideshow": {
     "slide_type": "slide"
    }
   },
   "source": [
    "\n",
    "# Scrap ALL the cubes\n",
    "\n",
    "## Yuri Numerov (Achifaifa)\n",
    "## Slides/code at [code.achi.se/scrapcubes](http://github.com/achifaifa/scrapcubes)\n",
    "## [achi.se](http://achi.se) - [achi (a) hush (.) ai](http://hue.hue/hue) - [@Achifaifa](https://twitter.com/achifaifa)"
   ]
  }
 ],
 "metadata": {
  "celltoolbar": "Slideshow",
  "kernelspec": {
   "display_name": "Python 2",
   "language": "python",
   "name": "python2"
  },
  "language_info": {
   "codemirror_mode": {
    "name": "ipython",
    "version": 2
   },
   "file_extension": ".py",
   "mimetype": "text/x-python",
   "name": "python",
   "nbconvert_exporter": "python",
   "pygments_lexer": "ipython2",
   "version": "2.7.10+"
  }
 },
 "nbformat": 4,
 "nbformat_minor": 0
}
